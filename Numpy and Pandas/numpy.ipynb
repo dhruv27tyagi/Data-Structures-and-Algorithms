{
 "cells": [
  {
   "cell_type": "code",
   "execution_count": 2,
   "id": "912d2024",
   "metadata": {},
   "outputs": [
    {
     "data": {
      "text/plain": [
       "20"
      ]
     },
     "execution_count": 2,
     "metadata": {},
     "output_type": "execute_result"
    }
   ],
   "source": [
    "## How do you calculate the dot product of two NumPy arrays?\n",
    "import numpy as np \n",
    "arr1 = np.array([1,2,3])\n",
    "arr2 = np.array([2,3,4])\n",
    "\n",
    "np.dot(arr1,arr2)"
   ]
  },
  {
   "cell_type": "markdown",
   "id": "bde2b55e",
   "metadata": {},
   "source": [
    "## What is the difference between a shallow copy and deep copy in Numpy ?\n",
    "In numPy we have two ways to copy an array. shallow copy and deep copy are two most used methods used in numpy to copy an array. Here is the main difference between both of them.\n",
    "\n",
    "Shallow copy\n",
    "A shallow copy is a new array that is a view of the original array's data.\n",
    "\n",
    "The new array is referencing the same data as the original array, so there's actually no duplication happening.\n",
    "\n",
    "Changes made in the original array will also be reflected in the shallow copy, and vice versa.\n",
    "\n",
    "Deep copy\n",
    "\n",
    "A deep copy is a completely new and independent array that does not share any data with the original array.\n",
    "\n",
    "The data is duplicated, creating a separate copy in memory.\n",
    "\n",
    "Changes made in the original array do not affect the deep copy, and vice versa."
   ]
  },
  {
   "cell_type": "code",
   "execution_count": 9,
   "id": "d8792e15",
   "metadata": {},
   "outputs": [
    {
     "data": {
      "text/plain": [
       "array([[1, 2, 3],\n",
       "       [4, 5, 6]])"
      ]
     },
     "execution_count": 9,
     "metadata": {},
     "output_type": "execute_result"
    }
   ],
   "source": [
    "## How do you reshape a NumPy array?\n",
    "arr = np.array([1,2,3,4,5,6])\n",
    "arr_reshaped = arr.reshape(2,3)\n",
    "arr_reshaped"
   ]
  },
  {
   "cell_type": "code",
   "execution_count": 10,
   "id": "fbd705e1",
   "metadata": {},
   "outputs": [
    {
     "data": {
      "text/plain": [
       "array([3, 5, 7])"
      ]
     },
     "execution_count": 10,
     "metadata": {},
     "output_type": "execute_result"
    }
   ],
   "source": [
    "## How to perform element-wise operations on NumPy arrays?\n",
    "\n",
    "np.add(arr1,arr2)"
   ]
  },
  {
   "cell_type": "code",
   "execution_count": 16,
   "id": "d536e3d3",
   "metadata": {},
   "outputs": [
    {
     "data": {
      "text/plain": [
       "array([-1, -1, -1])"
      ]
     },
     "execution_count": 16,
     "metadata": {},
     "output_type": "execute_result"
    }
   ],
   "source": [
    "arr1-arr2"
   ]
  },
  {
   "cell_type": "code",
   "execution_count": 17,
   "id": "b7223bdf",
   "metadata": {},
   "outputs": [
    {
     "data": {
      "text/plain": [
       "2.9166666666666665"
      ]
     },
     "execution_count": 17,
     "metadata": {},
     "output_type": "execute_result"
    }
   ],
   "source": [
    "## Define the var function in NumPy.\n",
    "\n",
    "#In NumPy, the var function is used to compute the variance of elements in an array or along a specified axis. Variance is a measure of the spread or dispersion of data points.\n",
    "\n",
    "np.var(arr)"
   ]
  },
  {
   "cell_type": "code",
   "execution_count": 19,
   "id": "1d008944",
   "metadata": {},
   "outputs": [],
   "source": [
    "# How to generate random numbers with NumPy?\n",
    "\n",
    "random_float = np.random.rand()\n",
    "random_integer = np.random.randint(5)"
   ]
  },
  {
   "cell_type": "code",
   "execution_count": 21,
   "id": "f0fef738",
   "metadata": {},
   "outputs": [
    {
     "data": {
      "text/plain": [
       "array([1, 2, 3, 4, 5])"
      ]
     },
     "execution_count": 21,
     "metadata": {},
     "output_type": "execute_result"
    }
   ],
   "source": [
    "## How can you create a NumPy array from a Python list?\n",
    "\n",
    "python_list = [1, 2, 3, 4, 5]\n",
    "\n",
    "numpy_array = np.array(python_list)\n",
    "numpy_array"
   ]
  },
  {
   "cell_type": "code",
   "execution_count": 22,
   "id": "39f03467",
   "metadata": {},
   "outputs": [
    {
     "data": {
      "text/plain": [
       "array([1, 2, 3, 2, 3, 4])"
      ]
     },
     "execution_count": 22,
     "metadata": {},
     "output_type": "execute_result"
    }
   ],
   "source": [
    "## How can you concatenate two NumPy arrays vertically?\n",
    "\n",
    "array_vertical = np.concatenate((arr1,arr2), axis = 0)\n",
    "array_vertical"
   ]
  },
  {
   "cell_type": "markdown",
   "id": "495feabd",
   "metadata": {},
   "source": [
    "## How can you generate random numbers following a normal distribution using NumPy?\n",
    "We can generate random numbers following a normal distribution (Gaussian distribution) using NumPy's random module. NumPy provides several functions for this purpose, with different options for specifying the mean and standard deviation of the distribution. The most commonly used function is numpy.random.normal."
   ]
  },
  {
   "cell_type": "code",
   "execution_count": 24,
   "id": "311e43ca",
   "metadata": {},
   "outputs": [
    {
     "data": {
      "text/plain": [
       "'\\nloc: Mean of the distribution (default is 0)\\n\\nscale: Standard deviation (default is 1)\\n\\nsize: Number or shape of the output array (e.g., 5, (2, 3), etc.)\\n'"
      ]
     },
     "execution_count": 24,
     "metadata": {},
     "output_type": "execute_result"
    }
   ],
   "source": [
    "# Generate 5 random numbers from a normal distribution with mean 0 and std dev 1\n",
    "samples = np.random.normal(loc=0, scale=1, size=5)\n",
    "\n",
    "\"\"\"\n",
    "loc: Mean of the distribution (default is 0)\n",
    "\n",
    "scale: Standard deviation (default is 1)\n",
    "\n",
    "size: Number or shape of the output array (e.g., 5, (2, 3), etc.)\n",
    "\"\"\""
   ]
  },
  {
   "cell_type": "code",
   "execution_count": 26,
   "id": "7c5d6f2d",
   "metadata": {},
   "outputs": [
    {
     "data": {
      "text/plain": [
       "array([2, 3, 4, 4, 6, 7, 1, 4, 6])"
      ]
     },
     "execution_count": 26,
     "metadata": {},
     "output_type": "execute_result"
    }
   ],
   "source": [
    "## Convert a multidimensional array to 1D array.\n",
    "\n",
    "md_array = np.array([[2,3,4],[4,6,7],[1,4,6]])\n",
    "\n",
    "one_dim_Array = md_array.flatten()\n",
    "\n",
    "one_dim_Array"
   ]
  },
  {
   "cell_type": "markdown",
   "id": "2a9ce70c",
   "metadata": {},
   "source": [
    "## How can you identify outliers in a NumPy array?\n",
    "\n",
    "Identifying and removing outliers in a NumPy array involves several steps. Outliers are data points that significantly deviate from the majority of the data and can adversely affect the results of data analysis. Here's a general approach to identify and remove outliers:\n",
    "\n",
    "Identifying Outliers:\n",
    "\n",
    "Calculate Descriptive Statistics: Compute basic statistics like the mean and standard deviation of the array to understand the central tendency and spread of the data.\n",
    "Define a Threshold:\n",
    "Decide on a threshold where data points are considered outliers."
   ]
  },
  {
   "cell_type": "code",
   "execution_count": 27,
   "id": "bc88ffbe",
   "metadata": {},
   "outputs": [
    {
     "data": {
      "text/plain": [
       "array([[10, 20],\n",
       "       [20, 30],\n",
       "       [30, 40]], dtype=int64)"
      ]
     },
     "execution_count": 27,
     "metadata": {},
     "output_type": "execute_result"
    }
   ],
   "source": [
    "## How would you convert a pandas dataframe into NumPy array.\n",
    "\n",
    "import pandas as pd \n",
    "import numpy as np \n",
    "\n",
    "data = {'A': [10,20,30], 'B': [20,30,40]}\n",
    "\n",
    "df = pd.DataFrame(data)\n",
    "\n",
    "numpy_array = df.values\n",
    "\n",
    "numpy_array"
   ]
  },
  {
   "cell_type": "markdown",
   "id": "891c7e04",
   "metadata": {},
   "source": [
    "## What are some common techniques for normalizing data in a NumPy array?\n",
    "Data analysis and machine learning frequently utilize normalization, a preprocessing method, to scale data to a standard range, usually between 0 and 1, or with a mean of 0 and a standard deviation of 1. Many machine learning algorithms can perform better with the aid of normalized data, which also ensures that features with various scales contribute equally to the study.\n",
    "\n",
    "Some common technique are:\n",
    "\n",
    "Min-Max Scaling\n",
    "Z-Score Normalization (Standardization)\n",
    "Log Transformation\n",
    "Box-Cox Transformation\n",
    "Robust Scaling\n"
   ]
  },
  {
   "cell_type": "markdown",
   "id": "7325b618",
   "metadata": {},
   "source": [
    "## What distinguishes np.mean() from np.average() in NumPy?\n",
    "\n",
    "np.mean() and np.average() in NumPy both calculate the mean of an array, but np.average() allows for the use of weights. While np.mean() treats all elements equally, np.average() considers weights assigned to each element, providing a weighted average when specified. This makes np.average() more flexible for situations where certain elements contribute more or less to the overall average based on their assigned weights. \n",
    "\n",
    "Here are examples illustrating the use of np.mean() and np.average() in NumPy: "
   ]
  },
  {
   "cell_type": "code",
   "execution_count": 28,
   "id": "86bf7129",
   "metadata": {},
   "outputs": [],
   "source": [
    "#Write a NumPy program to extract a subarray from a larger array based on given slicing parameters."
   ]
  },
  {
   "cell_type": "code",
   "execution_count": 29,
   "id": "391f0ed7",
   "metadata": {},
   "outputs": [],
   "source": [
    "#Generate a 2D array F of shape (5, 5) with random integer values between 1 and 100. Compute the mean and standard deviation for each row and each column separately using NumPy functions. "
   ]
  },
  {
   "cell_type": "code",
   "execution_count": null,
   "id": "b84fdf06",
   "metadata": {},
   "outputs": [
    {
     "data": {
      "text/plain": [
       "['abdfjhb', 'kjgsdf']"
      ]
     },
     "execution_count": 34,
     "metadata": {},
     "output_type": "execute_result"
    }
   ],
   "source": []
  },
  {
   "cell_type": "code",
   "execution_count": null,
   "id": "e812ccee",
   "metadata": {},
   "outputs": [],
   "source": []
  }
 ],
 "metadata": {
  "kernelspec": {
   "display_name": "base",
   "language": "python",
   "name": "python3"
  },
  "language_info": {
   "codemirror_mode": {
    "name": "ipython",
    "version": 3
   },
   "file_extension": ".py",
   "mimetype": "text/x-python",
   "name": "python",
   "nbconvert_exporter": "python",
   "pygments_lexer": "ipython3",
   "version": "3.10.9"
  }
 },
 "nbformat": 4,
 "nbformat_minor": 5
}
